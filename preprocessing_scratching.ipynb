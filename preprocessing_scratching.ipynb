{
 "cells": [
  {
   "cell_type": "code",
   "metadata": {
    "ExecuteTime": {
     "end_time": "2025-03-20T18:31:24.083850Z",
     "start_time": "2025-03-20T18:31:24.069985Z"
    }
   },
   "source": [
    "import numpy as np\n",
    "import matplotlib.pyplot as plt\n",
    "from scipy.signal import welch\n",
    "import pandas as pd\n",
    "import mne\n",
    "from sklearn.discriminant_analysis import LinearDiscriminantAnalysis\n",
    "from sklearn.model_selection import train_test_split, cross_val_score\n"
   ],
   "outputs": [],
   "execution_count": 1532
  },
  {
   "cell_type": "code",
   "metadata": {
    "ExecuteTime": {
     "end_time": "2025-03-20T18:31:24.098744Z",
     "start_time": "2025-03-20T18:31:24.089035Z"
    }
   },
   "source": [
    "def load_files(session_num, behavior_csv, verbose=False):\n",
    "    \"\"\"\n",
    "\n",
    "    ****setup****\n",
    "    file and folder paths\n",
    "    load data\n",
    "\n",
    "\n",
    "    \"\"\"\n",
    "    folderpath='data/misc/'\n",
    "    \n",
    "\n",
    "    eeg_raw=np.load(folderpath + 'eeg_run-' + str(session_num) + '.npy')/1000000 # divide by 1,000,000 scales units to microvolts for MNE\n",
    "    photo_raw=np.load(folderpath + 'aux_run-' + str(session_num) + '.npy')[1][1:]\n",
    "    behavior = pd.read_csv(behavior_csv)\n",
    "    master_df = behavior[behavior.columns[2:]].iloc[:-1] #get rid of first two columns and last trial (row)\n",
    "\n",
    "\n",
    "\n",
    "    # remove first data point of eeg across all channels\n",
    "    eeg=np.zeros((eeg_raw.shape[0], eeg_raw.shape[1]-1))\n",
    "    for ch in range(eeg_raw.shape[0]):\n",
    "        eeg[ch]=eeg_raw[ch][1:]\n",
    "\n",
    "\n",
    "\n",
    "    \n",
    "    # binarize photo signal --> greater than 1 std above mean = useable eeg data \n",
    "    photo_thresh = photo_raw.mean()-photo_raw.std()\n",
    "    photo_binary=(photo_raw>photo_thresh).astype(float)\n",
    "\n",
    "    # smooth binarization by requiring 3 consecutive samples of no light on sensor\n",
    "    for i in range(len(photo_binary)):\n",
    "        if i<len(photo_binary)-1:\n",
    "            if np.mean(photo_binary[i:i+3])!=0.0:\n",
    "                photo_binary[i]=1.0\n",
    "\n",
    "    # extract timestamps (where sensor changes state)\n",
    "    timestamps=[]\n",
    "    for i in range(len(photo_binary)-1):\n",
    "        if photo_binary[i]!=photo_binary[i+1]:\n",
    "            timestamps.append(i)\n",
    "\n",
    "    # drop first on/off timestamps (this is sensor press is to start the session)\n",
    "    timestamps=timestamps[2:]\n",
    "\n",
    "    # label timestamps and store in dictionary\n",
    "    timestamps_dict={'talk_on':timestamps[::2],'talk_off':timestamps[1::2]}\n",
    "    \n",
    "    channel_list = [\"FP1\", \"FP2\", \"T3\", \"T4\", \"T5\", \"P3\", \"P4\", \"T6\"]\n",
    "    session_info = mne.create_info(ch_names = channel_list, ch_types = [\"eeg\"]*8, sfreq = 250)\n",
    "    raw = mne.io.RawArray(eeg, info=session_info)\n",
    "    raw.filter(l_freq=7, h_freq=14)\n",
    "\n",
    "\n",
    "    # check that number of timestamps, photo sensor events, and trials matches\n",
    "    # save number of trials\n",
    "    session_len = master_df.shape[0]\n",
    "    talk_on_num = len(timestamps_dict['talk_on'])\n",
    "    talk_off_num = len(timestamps_dict['talk_off'])\n",
    "    session_len_check = session_len==talk_on_num and session_len==talk_off_num\n",
    "    \n",
    "    \n",
    "\n",
    "    \n",
    "\n",
    "    if verbose==True:\n",
    "\n",
    "        print('*'*30)\n",
    "        print('eeg shape: ', eeg.shape)\n",
    "        print('photo shape: ', photo_raw.shape)\n",
    "        print('timestamps_dict shape: ', len(timestamps_dict['talk_on']), ' & ', len(timestamps_dict['talk_off']))\n",
    "        print('\\nTIMESTAMPS DICT\\n', timestamps_dict)\n",
    "        print('\\nTRIAL NUMBER CONSISTENT ACROSS DATA MODALITIES: ', session_len_check)\n",
    "        print('*'*30, '\\n')\n",
    "\n",
    "        \n",
    "        # inspect descriptive stats\n",
    "        print(raw.describe())\n",
    "        \n",
    "        # # render visualization of entire recording for all channels\n",
    "        raw.plot(n_channels=8, duration=np.inf)\n",
    "\n",
    "        #inspect photo sensor binarization\n",
    "        plt.plot(photo_binary)\n",
    "        plt.show()\n",
    "\n",
    "        # inspect DataFrame\n",
    "        print(master_df)\n",
    "\n",
    "    return raw.get_data(), photo_binary, timestamps_dict, master_df, session_len"
   ],
   "outputs": [],
   "execution_count": 1533
  },
  {
   "cell_type": "code",
   "metadata": {
    "ExecuteTime": {
     "end_time": "2025-03-20T18:31:24.423606Z",
     "start_time": "2025-03-20T18:31:24.410378Z"
    }
   },
   "source": [
    "# eeg, aux, timestamps, data_df, n_trials = load_files(3, 'trial_2025-03-08_1741468439.817664.csv', verbose=True)"
   ],
   "outputs": [],
   "execution_count": 1534
  },
  {
   "cell_type": "code",
   "metadata": {
    "ExecuteTime": {
     "end_time": "2025-03-20T18:31:24.764602Z",
     "start_time": "2025-03-20T18:31:24.749953Z"
    }
   },
   "source": [
    "def ch_windows(eeg_data, timestamps_dict, trial_num, timestamp_label, window_dur):\n",
    "    \"\"\"\n",
    "    get window before each 'talk_on' or after each 'talk_off' timestampt\n",
    "\n",
    "    eeg_data: 8 channels of eeg in np.array format, entire session\n",
    "    trial_num: number of trial to access\n",
    "    timestamp_label: from timestamp dictionary --> 'talk_on' or 'talk_off'\n",
    "    window_dur: length of window (in samples)\n",
    "    \"\"\"\n",
    "    epoch = np.zeros((8, window_dur), dtype=np.float64)\n",
    "    timestamp = timestamps_dict[timestamp_label][trial_num]\n",
    "    for i, ch in enumerate(eeg_data):\n",
    "        if timestamp_label == 'talk_on':\n",
    "            window = ch[timestamp-window_dur:timestamp]\n",
    "        else:\n",
    "            window = ch[timestamp:timestamp+window_dur]\n",
    "        epoch[i] =  window\n",
    "    return epoch\n",
    "\n",
    "def get_all_windows(eeg_data, window_dur, timestamps_dict, session_length):\n",
    "\n",
    "    pre = np.zeros((session_length, 8, window_dur), dtype=np.float64)\n",
    "    post = np.zeros((session_length, 8, window_dur), dtype=np.float64)\n",
    "\n",
    "    for stamp_label in timestamps_dict:\n",
    "        trial=0\n",
    "        for timestamp in timestamps_dict[stamp_label]:\n",
    "            if trial>session_length-1:\n",
    "                break\n",
    "            windows = ch_windows(eeg_data, timestamps_dict, trial, stamp_label, window_dur)\n",
    "            if stamp_label=='talk_on':\n",
    "                pre[trial] = windows\n",
    "            else:\n",
    "                post[trial] = windows\n",
    "            trial+=1\n",
    "    return list(pre), list(post)\n",
    "\n",
    "\n",
    "\n",
    "def epochs_to_df(eeg_data, master_df, timestamps_dict, session_length):\n",
    "\n",
    "    master_df['pre_eeg'],master_df['post_eeg'] = get_all_windows(\n",
    "        eeg_data, 500, timestamps_dict, session_length)\n",
    "\n",
    "    return master_df\n",
    "\n",
    "# data_df = epochs_to_df(eeg, data_df, timestamps, n_trials)\n",
    "# data_df\n"
   ],
   "outputs": [],
   "execution_count": 1535
  },
  {
   "cell_type": "code",
   "metadata": {
    "ExecuteTime": {
     "end_time": "2025-03-20T18:31:25.103556Z",
     "start_time": "2025-03-20T18:31:25.091796Z"
    }
   },
   "source": [
    "def ch_psd(array):\n",
    "    freqs, psds = welch(array, fs = 250, scaling = 'spectrum')\n",
    "    return psds[8:14]#\n",
    "\n",
    "def trial_psds(arrays):\n",
    "    return [ch_psd(array) for array in arrays]\n",
    "\n",
    "def psds_to_df(master_df):\n",
    "    master_df['pre_psds'] = master_df['pre_eeg'].apply(trial_psds)\n",
    "    master_df['post_psds'] = master_df['post_eeg'].apply(trial_psds)\n",
    "    return master_df\n",
    "\n",
    "\n"
   ],
   "outputs": [],
   "execution_count": 1536
  },
  {
   "metadata": {
    "ExecuteTime": {
     "end_time": "2025-03-20T18:31:25.441384Z",
     "start_time": "2025-03-20T18:31:25.427618Z"
    }
   },
   "cell_type": "code",
   "source": "",
   "outputs": [],
   "execution_count": null
  },
  {
   "cell_type": "code",
   "metadata": {
    "ExecuteTime": {
     "end_time": "2025-03-20T18:31:25.798791Z",
     "start_time": "2025-03-20T18:31:25.784775Z"
    }
   },
   "source": [
    "def full_pipeline_df(session_number, csv_filepath):\n",
    "    #print(':'*40)\n",
    "    #print(':'*13, 'SESSION No.', session_number, ':'*12)\n",
    "    #print(':'*40)\n",
    "    eeg, aux, timestamps, data_df, n_trials = load_files(session_number, csv_filepath, verbose=False);\n",
    "    data_df = epochs_to_df(eeg, data_df, timestamps, n_trials)\n",
    "    data_df = psds_to_df(data_df)\n",
    "    return data_df\n"
   ],
   "outputs": [],
   "execution_count": 1537
  },
  {
   "cell_type": "code",
   "metadata": {
    "ExecuteTime": {
     "end_time": "2025-03-20T18:31:29.033450Z",
     "start_time": "2025-03-20T18:31:26.098391Z"
    }
   },
   "source": [
    "s2=full_pipeline_df(2,'trial_2025-03-03.csv');\n",
    "s3=full_pipeline_df(3,'trial_2025-03-08_1741468439.817664.csv');\n",
    "s4=full_pipeline_df(4,'trial_2025-03-08_1741468843.7260554.csv');\n",
    "s5=full_pipeline_df(5,'trial_2025-03-08_1741469610.0329673.csv');\n",
    "s6=full_pipeline_df(6,'trial_2025-03-08_1741470378.8003502.csv');\n",
    "s7=full_pipeline_df(7,'trial_2025-03-08_1741470954.5934713.csv');\n",
    "s8=full_pipeline_df(8,'trial_2025-03-08_1741472154.896084.csv');\n",
    "s9=full_pipeline_df(9,'trial_2025-03-08_1741472587.6947665.csv');\n",
    "s10=full_pipeline_df(10, 'trial_2025-03-08_1741472989.529014.csv');"
   ],
   "outputs": [
    {
     "name": "stdout",
     "output_type": "stream",
     "text": [
      "Creating RawArray with float64 data, n_channels=8, n_times=47737\n",
      "    Range : 0 ... 47736 =      0.000 ...   190.944 secs\n",
      "Ready.\n",
      "Filtering raw data in 1 contiguous segment\n",
      "Setting up band-pass filter from 7 - 14 Hz\n",
      "\n",
      "FIR filter parameters\n",
      "---------------------\n",
      "Designing a one-pass, zero-phase, non-causal bandpass filter:\n",
      "- Windowed time-domain design (firwin) method\n",
      "- Hamming window with 0.0194 passband ripple and 53 dB stopband attenuation\n",
      "- Lower passband edge: 7.00\n",
      "- Lower transition bandwidth: 2.00 Hz (-6 dB cutoff frequency: 6.00 Hz)\n",
      "- Upper passband edge: 14.00 Hz\n",
      "- Upper transition bandwidth: 3.50 Hz (-6 dB cutoff frequency: 15.75 Hz)\n",
      "- Filter length: 413 samples (1.652 s)\n",
      "\n",
      "Creating RawArray with float64 data, n_channels=8, n_times=53870\n",
      "    Range : 0 ... 53869 =      0.000 ...   215.476 secs\n",
      "Ready.\n",
      "Filtering raw data in 1 contiguous segment\n",
      "Setting up band-pass filter from 7 - 14 Hz\n",
      "\n",
      "FIR filter parameters\n",
      "---------------------\n",
      "Designing a one-pass, zero-phase, non-causal bandpass filter:\n",
      "- Windowed time-domain design (firwin) method\n",
      "- Hamming window with 0.0194 passband ripple and 53 dB stopband attenuation\n",
      "- Lower passband edge: 7.00\n",
      "- Lower transition bandwidth: 2.00 Hz (-6 dB cutoff frequency: 6.00 Hz)\n",
      "- Upper passband edge: 14.00 Hz\n",
      "- Upper transition bandwidth: 3.50 Hz (-6 dB cutoff frequency: 15.75 Hz)\n",
      "- Filter length: 413 samples (1.652 s)\n",
      "\n",
      "Creating RawArray with float64 data, n_channels=8, n_times=54950\n",
      "    Range : 0 ... 54949 =      0.000 ...   219.796 secs\n",
      "Ready.\n",
      "Filtering raw data in 1 contiguous segment\n",
      "Setting up band-pass filter from 7 - 14 Hz\n",
      "\n",
      "FIR filter parameters\n",
      "---------------------\n",
      "Designing a one-pass, zero-phase, non-causal bandpass filter:\n",
      "- Windowed time-domain design (firwin) method\n",
      "- Hamming window with 0.0194 passband ripple and 53 dB stopband attenuation\n",
      "- Lower passband edge: 7.00\n",
      "- Lower transition bandwidth: 2.00 Hz (-6 dB cutoff frequency: 6.00 Hz)\n",
      "- Upper passband edge: 14.00 Hz\n",
      "- Upper transition bandwidth: 3.50 Hz (-6 dB cutoff frequency: 15.75 Hz)\n",
      "- Filter length: 413 samples (1.652 s)\n",
      "\n",
      "Creating RawArray with float64 data, n_channels=8, n_times=50623\n",
      "    Range : 0 ... 50622 =      0.000 ...   202.488 secs\n",
      "Ready.\n",
      "Filtering raw data in 1 contiguous segment\n",
      "Setting up band-pass filter from 7 - 14 Hz\n",
      "\n",
      "FIR filter parameters\n",
      "---------------------\n",
      "Designing a one-pass, zero-phase, non-causal bandpass filter:\n",
      "- Windowed time-domain design (firwin) method\n",
      "- Hamming window with 0.0194 passband ripple and 53 dB stopband attenuation\n",
      "- Lower passband edge: 7.00\n",
      "- Lower transition bandwidth: 2.00 Hz (-6 dB cutoff frequency: 6.00 Hz)\n",
      "- Upper passband edge: 14.00 Hz\n",
      "- Upper transition bandwidth: 3.50 Hz (-6 dB cutoff frequency: 15.75 Hz)\n",
      "- Filter length: 413 samples (1.652 s)\n",
      "\n",
      "Creating RawArray with float64 data, n_channels=8, n_times=56755\n",
      "    Range : 0 ... 56754 =      0.000 ...   227.016 secs\n",
      "Ready.\n",
      "Filtering raw data in 1 contiguous segment\n",
      "Setting up band-pass filter from 7 - 14 Hz\n",
      "\n",
      "FIR filter parameters\n",
      "---------------------\n",
      "Designing a one-pass, zero-phase, non-causal bandpass filter:\n",
      "- Windowed time-domain design (firwin) method\n",
      "- Hamming window with 0.0194 passband ripple and 53 dB stopband attenuation\n",
      "- Lower passband edge: 7.00\n",
      "- Lower transition bandwidth: 2.00 Hz (-6 dB cutoff frequency: 6.00 Hz)\n",
      "- Upper passband edge: 14.00 Hz\n",
      "- Upper transition bandwidth: 3.50 Hz (-6 dB cutoff frequency: 15.75 Hz)\n",
      "- Filter length: 413 samples (1.652 s)\n",
      "\n",
      "Creating RawArray with float64 data, n_channels=8, n_times=57717\n",
      "    Range : 0 ... 57716 =      0.000 ...   230.864 secs\n",
      "Ready.\n",
      "Filtering raw data in 1 contiguous segment\n",
      "Setting up band-pass filter from 7 - 14 Hz\n",
      "\n",
      "FIR filter parameters\n",
      "---------------------\n",
      "Designing a one-pass, zero-phase, non-causal bandpass filter:\n",
      "- Windowed time-domain design (firwin) method\n",
      "- Hamming window with 0.0194 passband ripple and 53 dB stopband attenuation\n",
      "- Lower passband edge: 7.00\n",
      "- Lower transition bandwidth: 2.00 Hz (-6 dB cutoff frequency: 6.00 Hz)\n",
      "- Upper passband edge: 14.00 Hz\n",
      "- Upper transition bandwidth: 3.50 Hz (-6 dB cutoff frequency: 15.75 Hz)\n",
      "- Filter length: 413 samples (1.652 s)\n",
      "\n",
      "Creating RawArray with float64 data, n_channels=8, n_times=55071\n",
      "    Range : 0 ... 55070 =      0.000 ...   220.280 secs\n",
      "Ready.\n",
      "Filtering raw data in 1 contiguous segment\n",
      "Setting up band-pass filter from 7 - 14 Hz\n",
      "\n",
      "FIR filter parameters\n",
      "---------------------\n",
      "Designing a one-pass, zero-phase, non-causal bandpass filter:\n",
      "- Windowed time-domain design (firwin) method\n",
      "- Hamming window with 0.0194 passband ripple and 53 dB stopband attenuation\n",
      "- Lower passband edge: 7.00\n",
      "- Lower transition bandwidth: 2.00 Hz (-6 dB cutoff frequency: 6.00 Hz)\n",
      "- Upper passband edge: 14.00 Hz\n",
      "- Upper transition bandwidth: 3.50 Hz (-6 dB cutoff frequency: 15.75 Hz)\n",
      "- Filter length: 413 samples (1.652 s)\n",
      "\n",
      "Creating RawArray with float64 data, n_channels=8, n_times=55312\n",
      "    Range : 0 ... 55311 =      0.000 ...   221.244 secs\n",
      "Ready.\n",
      "Filtering raw data in 1 contiguous segment\n",
      "Setting up band-pass filter from 7 - 14 Hz\n",
      "\n",
      "FIR filter parameters\n",
      "---------------------\n",
      "Designing a one-pass, zero-phase, non-causal bandpass filter:\n",
      "- Windowed time-domain design (firwin) method\n",
      "- Hamming window with 0.0194 passband ripple and 53 dB stopband attenuation\n",
      "- Lower passband edge: 7.00\n",
      "- Lower transition bandwidth: 2.00 Hz (-6 dB cutoff frequency: 6.00 Hz)\n",
      "- Upper passband edge: 14.00 Hz\n",
      "- Upper transition bandwidth: 3.50 Hz (-6 dB cutoff frequency: 15.75 Hz)\n",
      "- Filter length: 413 samples (1.652 s)\n",
      "\n",
      "Creating RawArray with float64 data, n_channels=8, n_times=52787\n",
      "    Range : 0 ... 52786 =      0.000 ...   211.144 secs\n",
      "Ready.\n",
      "Filtering raw data in 1 contiguous segment\n",
      "Setting up band-pass filter from 7 - 14 Hz\n",
      "\n",
      "FIR filter parameters\n",
      "---------------------\n",
      "Designing a one-pass, zero-phase, non-causal bandpass filter:\n",
      "- Windowed time-domain design (firwin) method\n",
      "- Hamming window with 0.0194 passband ripple and 53 dB stopband attenuation\n",
      "- Lower passband edge: 7.00\n",
      "- Lower transition bandwidth: 2.00 Hz (-6 dB cutoff frequency: 6.00 Hz)\n",
      "- Upper passband edge: 14.00 Hz\n",
      "- Upper transition bandwidth: 3.50 Hz (-6 dB cutoff frequency: 15.75 Hz)\n",
      "- Filter length: 413 samples (1.652 s)\n",
      "\n"
     ]
    }
   ],
   "execution_count": 1538
  },
  {
   "cell_type": "code",
   "metadata": {
    "ExecuteTime": {
     "end_time": "2025-03-20T18:31:29.434211Z",
     "start_time": "2025-03-20T18:31:29.416137Z"
    }
   },
   "source": [
    "full_df = pd.concat([s2, s3, s4, s5, s6, s7, s8, s10.iloc[:6]]).reset_index()#s2, s3, s4, s5, s6, s7, s8, s9, s10.iloc[:6]\n",
    "partial_df = pd.concat([s3, s4, s5, s6, s7, s8]).reset_index()\n",
    "no_electrical_signal = pd.concat([s2, s10.iloc[:6]]).reset_index()\n",
    "ready_df = full_df.sort_values(by=['truth_value']).iloc[3:];"
   ],
   "outputs": [],
   "execution_count": 1539
  },
  {
   "metadata": {
    "ExecuteTime": {
     "end_time": "2025-03-20T18:31:29.792265Z",
     "start_time": "2025-03-20T18:31:29.778720Z"
    }
   },
   "cell_type": "code",
   "source": "",
   "outputs": [],
   "execution_count": null
  },
  {
   "cell_type": "code",
   "metadata": {
    "ExecuteTime": {
     "end_time": "2025-03-20T18:31:30.133428Z",
     "start_time": "2025-03-20T18:31:30.120646Z"
    }
   },
   "source": [
    "def convert_label(label):\n",
    "    return 0 if label =='fact' else 1\n",
    "\n",
    "\n",
    "\n",
    "def run_LDA(master_df, kind, when='post'):\n",
    "\n",
    "    # Organize data for model\n",
    "    if kind == 'max':\n",
    "        X = np.array([np.max(psd, axis=0) for psd in master_df[f'{when}_psds']])  # Flatten each 8xN array\n",
    "    elif kind == 'mean':\n",
    "        X = np.array([np.mean(psd, axis=0) for psd in master_df[f'{when}_psds']])\n",
    "    elif kind == 'median':\n",
    "        X = np.array([np.median(psd, axis=0) for psd in master_df[f'{when}_psds']])\n",
    "    elif kind == 'min':\n",
    "        X = np.array([np.min(psd, axis=0) for psd in master_df[f'{when}_psds']])\n",
    "    y = master_df['truth_value'].apply(convert_label)  # Binary labels\n",
    "\n",
    "    #print(X.shape)\n",
    "    # Check class distribution in the full dataset\n",
    "    print(\"\\nFull Dataset Class Distribution:\\n\", pd.Series(y).value_counts())\n",
    "\n",
    "    # Train-test split\n",
    "    X_train, X_test, y_train, y_test = train_test_split(X, y, test_size=0.2, random_state=6, stratify=y, shuffle=True)\n",
    "\n",
    "\n",
    "    # Check class distribution in training and test sets\n",
    "    #print(\"\\nTraining Set Class Distribution:\\n\", pd.Series(y_train).value_counts())\n",
    "    #print(\"\\nTest Set Class Distribution:\\n\", pd.Series(y_test).value_counts())\n",
    "    # Initialize and train LDA model\n",
    "    lda = LinearDiscriminantAnalysis()\n",
    "    lda.fit(X_train, y_train)\n",
    "\n",
    "    # Predict on test data\n",
    "\n",
    "    # Compute accuracy using cross-validation\n",
    "    accuracy = cross_val_score(lda, X_train, y_train, cv=5).mean()\n",
    "\n",
    "    # Print results\n",
    "    print(f\"\\n******************\\nScore:{lda.score(X_test, y_test):.4f}\")\n",
    "    return lda, X_train, X_test, y_train, y_test"
   ],
   "outputs": [],
   "execution_count": 1540
  },
  {
   "metadata": {
    "ExecuteTime": {
     "end_time": "2025-03-20T18:31:30.459684Z",
     "start_time": "2025-03-20T18:31:30.430581Z"
    }
   },
   "cell_type": "code",
   "source": "lda, X_train, X_test, y_train, y_test= run_LDA(partial_df, 'median', 'post')",
   "outputs": [
    {
     "name": "stdout",
     "output_type": "stream",
     "text": [
      "\n",
      "Full Dataset Class Distribution:\n",
      " truth_value\n",
      "1    45\n",
      "0    43\n",
      "Name: count, dtype: int64\n",
      "\n",
      "******************\n",
      "Score:0.5556\n"
     ]
    }
   ],
   "execution_count": 1541
  },
  {
   "metadata": {
    "ExecuteTime": {
     "end_time": "2025-03-20T18:31:30.799597Z",
     "start_time": "2025-03-20T18:31:30.772002Z"
    }
   },
   "cell_type": "code",
   "source": "lda, X_train, X_test, y_train, y_test= run_LDA(no_electrical_signal, 'median', 'post')",
   "outputs": [
    {
     "name": "stdout",
     "output_type": "stream",
     "text": [
      "\n",
      "Full Dataset Class Distribution:\n",
      " truth_value\n",
      "1    11\n",
      "0    10\n",
      "Name: count, dtype: int64\n",
      "\n",
      "******************\n",
      "Score:0.2000\n"
     ]
    }
   ],
   "execution_count": 1542
  },
  {
   "metadata": {
    "ExecuteTime": {
     "end_time": "2025-03-20T18:31:31.123721Z",
     "start_time": "2025-03-20T18:31:31.094148Z"
    }
   },
   "cell_type": "code",
   "source": "lda, X_train, X_test, y_train, y_test= run_LDA(full_df, 'median', 'post')",
   "outputs": [
    {
     "name": "stdout",
     "output_type": "stream",
     "text": [
      "\n",
      "Full Dataset Class Distribution:\n",
      " truth_value\n",
      "1    56\n",
      "0    53\n",
      "Name: count, dtype: int64\n",
      "\n",
      "******************\n",
      "Score:0.7273\n"
     ]
    }
   ],
   "execution_count": 1543
  },
  {
   "cell_type": "code",
   "metadata": {
    "ExecuteTime": {
     "end_time": "2025-03-20T18:31:31.434426Z",
     "start_time": "2025-03-20T18:31:31.420593Z"
    }
   },
   "source": [
    "master_df = full_df"
   ],
   "outputs": [],
   "execution_count": 1544
  },
  {
   "cell_type": "code",
   "metadata": {
    "ExecuteTime": {
     "end_time": "2025-03-20T18:31:31.959619Z",
     "start_time": "2025-03-20T18:31:31.744603Z"
    }
   },
   "source": [
    "import matplotlib.pyplot as plt\n",
    "import seaborn as sns\n",
    "\n",
    "# Transform features into LDA space\n",
    "X_lda = lda.transform(X_train)\n",
    "\n",
    "# Plot LDA-transformed feature distribution\n",
    "plt.figure(figsize=(8, 5))\n",
    "sns.histplot(X_lda[y_train == 0], color=\"blue\", label=\"Class 0\", bins=15, kde=True)\n",
    "sns.histplot(X_lda[y_train == 1],palette='rocket', label=\"Class 1\", bins=15, kde=True)\n",
    "\n",
    "plt.xlabel(\"LDA Component 1\")\n",
    "plt.ylabel(\"Frequency\")\n",
    "plt.title(\"LDA Feature Distribution\")\n",
    "plt.legend()\n",
    "plt.show();"
   ],
   "outputs": [
    {
     "data": {
      "text/plain": [
       "<Figure size 800x500 with 1 Axes>"
      ],
      "image/png": "[encoded data removed]"
     },
     "metadata": {},
     "output_type": "display_data"
    }
   ],
   "execution_count": 1545
  },
  {
   "cell_type": "code",
   "metadata": {
    "ExecuteTime": {
     "end_time": "2025-03-20T18:31:32.654609Z",
     "start_time": "2025-03-20T18:31:32.641519Z"
    }
   },
   "source": [],
   "outputs": [],
   "execution_count": null
  }
 ],
 "metadata": {
  "kernelspec": {
   "display_name": "Python 3",
   "language": "python",
   "name": "python3"
  },
  "language_info": {
   "codemirror_mode": {
    "name": "ipython",
    "version": 3
   },
   "file_extension": ".py",
   "mimetype": "text/x-python",
   "name": "python",
   "nbconvert_exporter": "python",
   "pygments_lexer": "ipython3",
   "version": "3.10.9"
  },
  "orig_nbformat": 4
 },
 "nbformat": 4,
 "nbformat_minor": 2
}
